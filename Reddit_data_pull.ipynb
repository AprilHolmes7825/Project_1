{
 "cells": [
  {
   "cell_type": "code",
   "execution_count": 1,
   "metadata": {},
   "outputs": [],
   "source": [
    "import praw\n",
    "import requests\n",
    "import pandas as pd\n",
    "import json\n",
    "\n",
    "\n",
    "\n",
    "from config import reddit_client_id\n",
    "from config import reddit_secret_key\n",
    "from config import reddit_user_name\n",
    "from config import reddit_password\n",
    "from config import yahoo_api_key\n",
    "\n"
   ]
  },
  {
   "cell_type": "code",
   "execution_count": 2,
   "metadata": {},
   "outputs": [],
   "source": [
    "yahoo_base_url = \"https://yahoo-finance127.p.rapidapi.com/price/tsla\"\n",
    "yahoo_base_url = \"https://yahoo-finance127.p.rapidapi.com/price/\"\n",
    "\n",
    "\n",
    "headers = {\n",
    "    \"X-RapidAPI-Key\": yahoo_api_key,\n",
    "    \"X-RapidAPI-Host\": \"yahoo-finance127.p.rapidapi.com\"\n",
    "}\n",
    "\n",
    "\n",
    "#get input from user for stock symbol\n",
    "company_names = []\n",
    "stock_symbol = str(input(\"Enter stock symbol to search\"))\n",
    "\n",
    "\n",
    "#------------------------------------------------------------------------TO-DO - Add error handling for when ticker is not found\n",
    "\n",
    "# token1 = str(response.json())\n",
    "#json.dumps(token1, indent=4, sort_keys=True)\n",
    "yahoo_response = requests.get(yahoo_base_url + stock_symbol, headers=headers).json()\n",
    "#yahoo_response\n",
    "# print(json.dumps(data, indent=4, sort_keys=True))\n",
    "\n",
    "#Add longname as search term for reddit\n",
    "company_names.append(yahoo_response[\"longName\"])\n",
    "\n",
    "#Add stock symbol as search term for reddit\n",
    "company_names.append(stock_symbol)\n",
    "\n",
    "#Get alternate company names to use for reddit search\n",
    "msg = f\"{stock_symbol}'s LongName is {company_names[0]}.  Add another search term and press Enter, or press Cancel when done'\"\n",
    "\n",
    "while True:\n",
    "    response = str(input(msg))\n",
    "    if len(response)> 0:\n",
    "        company_names.append(response)\n",
    "    else:\n",
    "        break\n",
    "\n",
    "#remove duplicates from company_names\n",
    "reddit_search_list = pd.Series(company_names).drop_duplicates().tolist()"
   ]
  },
  {
   "cell_type": "code",
   "execution_count": 7,
   "metadata": {},
   "outputs": [
    {
     "ename": "NameError",
     "evalue": "name 'post_date' is not defined",
     "output_type": "error",
     "traceback": [
      "\u001b[1;31m---------------------------------------------------------------------------\u001b[0m",
      "\u001b[1;31mNameError\u001b[0m                                 Traceback (most recent call last)",
      "\u001b[1;32mc:\\Users\\aholm\\Documents\\Data Science Bootcamp\\Classwork\\Project 1\\Project_1\\Reddit_data_pull.ipynb Cell 3\u001b[0m line \u001b[0;36m3\n\u001b[0;32m     <a href='vscode-notebook-cell:/c%3A/Users/aholm/Documents/Data%20Science%20Bootcamp/Classwork/Project%201/Project_1/Reddit_data_pull.ipynb#W2sZmlsZQ%3D%3D?line=27'>28</a>\u001b[0m \u001b[39mfor\u001b[39;00m term \u001b[39min\u001b[39;00m reddit_search_list:\n\u001b[0;32m     <a href='vscode-notebook-cell:/c%3A/Users/aholm/Documents/Data%20Science%20Bootcamp/Classwork/Project%201/Project_1/Reddit_data_pull.ipynb#W2sZmlsZQ%3D%3D?line=28'>29</a>\u001b[0m     \u001b[39mfor\u001b[39;00m submission \u001b[39min\u001b[39;00m reddit\u001b[39m.\u001b[39msubreddit(\u001b[39m\"\u001b[39m\u001b[39mwallstreetbets\u001b[39m\u001b[39m\"\u001b[39m)\u001b[39m.\u001b[39msearch(term, limit\u001b[39m=\u001b[39m\u001b[39m10\u001b[39m, sort\u001b[39m=\u001b[39m\u001b[39m\"\u001b[39m\u001b[39mnew\u001b[39m\u001b[39m\"\u001b[39m):\n\u001b[0;32m     <a href='vscode-notebook-cell:/c%3A/Users/aholm/Documents/Data%20Science%20Bootcamp/Classwork/Project%201/Project_1/Reddit_data_pull.ipynb#W2sZmlsZQ%3D%3D?line=29'>30</a>\u001b[0m         reddit_posts\u001b[39m.\u001b[39mappend({\u001b[39m\"\u001b[39m\u001b[39msearch term\u001b[39m\u001b[39m\"\u001b[39m: term,\n\u001b[0;32m     <a href='vscode-notebook-cell:/c%3A/Users/aholm/Documents/Data%20Science%20Bootcamp/Classwork/Project%201/Project_1/Reddit_data_pull.ipynb#W2sZmlsZQ%3D%3D?line=30'>31</a>\u001b[0m                              \u001b[39m\"\u001b[39m\u001b[39mtitle\u001b[39m\u001b[39m\"\u001b[39m: submission\u001b[39m.\u001b[39mtitle,\n\u001b[0;32m     <a href='vscode-notebook-cell:/c%3A/Users/aholm/Documents/Data%20Science%20Bootcamp/Classwork/Project%201/Project_1/Reddit_data_pull.ipynb#W2sZmlsZQ%3D%3D?line=31'>32</a>\u001b[0m                             \u001b[39m\"\u001b[39m\u001b[39mupvotes\u001b[39m\u001b[39m\"\u001b[39m: submission\u001b[39m.\u001b[39mscore,\n\u001b[0;32m     <a href='vscode-notebook-cell:/c%3A/Users/aholm/Documents/Data%20Science%20Bootcamp/Classwork/Project%201/Project_1/Reddit_data_pull.ipynb#W2sZmlsZQ%3D%3D?line=32'>33</a>\u001b[0m                             \u001b[39m\"\u001b[39m\u001b[39mnum_comments\u001b[39m\u001b[39m\"\u001b[39m: submission\u001b[39m.\u001b[39mnum_comments,\n\u001b[1;32m---> <a href='vscode-notebook-cell:/c%3A/Users/aholm/Documents/Data%20Science%20Bootcamp/Classwork/Project%201/Project_1/Reddit_data_pull.ipynb#W2sZmlsZQ%3D%3D?line=33'>34</a>\u001b[0m                             \u001b[39m\"\u001b[39m\u001b[39mdate_utc\u001b[39m\u001b[39m\"\u001b[39m: post_date})\n\u001b[0;32m     <a href='vscode-notebook-cell:/c%3A/Users/aholm/Documents/Data%20Science%20Bootcamp/Classwork/Project%201/Project_1/Reddit_data_pull.ipynb#W2sZmlsZQ%3D%3D?line=37'>38</a>\u001b[0m reddit_df \u001b[39m=\u001b[39m pd\u001b[39m.\u001b[39mDataFrame(reddit_posts)\n\u001b[0;32m     <a href='vscode-notebook-cell:/c%3A/Users/aholm/Documents/Data%20Science%20Bootcamp/Classwork/Project%201/Project_1/Reddit_data_pull.ipynb#W2sZmlsZQ%3D%3D?line=38'>39</a>\u001b[0m reddit_df\u001b[39m.\u001b[39mdrop_duplicates(subset\u001b[39m=\u001b[39m[\u001b[39m\"\u001b[39m\u001b[39mtitle\u001b[39m\u001b[39m\"\u001b[39m],keep\u001b[39m=\u001b[39m\u001b[39m\"\u001b[39m\u001b[39mfirst\u001b[39m\u001b[39m\"\u001b[39m,inplace\u001b[39m=\u001b[39m\u001b[39mTrue\u001b[39;00m)\n",
      "\u001b[1;31mNameError\u001b[0m: name 'post_date' is not defined"
     ]
    }
   ],
   "source": [
    "#Do reddit search\n",
    "\n",
    "auth = requests.auth.HTTPBasicAuth(reddit_client_id,reddit_secret_key)\n",
    "data = {\n",
    "    'grant_type': 'password',\n",
    "    'username': reddit_user_name,\n",
    "    'password': reddit_password\n",
    "}\n",
    "headers = {'User-Agent': 'redditapi/1'}\n",
    "res = requests.post('https://www.reddit.com/api/v1/access_token',\n",
    "                    auth=auth, data=data, headers=headers)\n",
    "token12 = res.json()['access_token']\n",
    "headers = {**headers, **{'Authorization': f'bearer {token12}'}}\n",
    "headers\n",
    "requests.get('https://oauth.reddit.com/api/v1/me', headers=headers)\n",
    "\n",
    "reddit_posts = []\n",
    "reddit = praw.Reddit(\n",
    "    client_id=reddit_client_id,\n",
    "    client_secret=reddit_secret_key,\n",
    "    password = data['password'],\n",
    "    user_agent=f\"testscript by u/{data['username']}\",\n",
    "    username = data['username'],\n",
    ")\n",
    "\n",
    "\n",
    "#-----------------------------------------------------------TO-DO: Do we need to set a different limit or search criteria?\n",
    "for term in reddit_search_list:\n",
    "    for submission in reddit.subreddit(\"wallstreetbets\").search(term, limit=10, sort=\"new\"):\n",
    "        reddit_posts.append({\"search term\": term,\n",
    "                             \"title\": submission.title,\n",
    "                            \"upvotes\": submission.score,\n",
    "                            \"num_comments\": submission.num_comments,\n",
    "                            \"date_utc\": submission.date})\n",
    "    \n",
    "\n",
    "\n",
    "reddit_df = pd.DataFrame(reddit_posts)\n",
    "reddit_df.drop_duplicates(subset=[\"title\"],keep=\"first\",inplace=True)\n",
    "reddit_df"
   ]
  },
  {
   "cell_type": "code",
   "execution_count": 5,
   "metadata": {},
   "outputs": [
    {
     "data": {
      "text/html": [
       "<div>\n",
       "<style scoped>\n",
       "    .dataframe tbody tr th:only-of-type {\n",
       "        vertical-align: middle;\n",
       "    }\n",
       "\n",
       "    .dataframe tbody tr th {\n",
       "        vertical-align: top;\n",
       "    }\n",
       "\n",
       "    .dataframe thead th {\n",
       "        text-align: right;\n",
       "    }\n",
       "</style>\n",
       "<table border=\"1\" class=\"dataframe\">\n",
       "  <thead>\n",
       "    <tr style=\"text-align: right;\">\n",
       "      <th></th>\n",
       "      <th>Symbol</th>\n",
       "      <th>Day_Range_raw</th>\n",
       "      <th>Market_Price</th>\n",
       "      <th>Company_Name</th>\n",
       "    </tr>\n",
       "  </thead>\n",
       "  <tbody>\n",
       "    <tr>\n",
       "      <th>0</th>\n",
       "      <td>TSLA</td>\n",
       "      <td>237.4512 - 243.441</td>\n",
       "      <td>239.74</td>\n",
       "      <td>Tesla, Inc.</td>\n",
       "    </tr>\n",
       "  </tbody>\n",
       "</table>\n",
       "</div>"
      ],
      "text/plain": [
       "  Symbol       Day_Range_raw  Market_Price Company_Name\n",
       "0   TSLA  237.4512 - 243.441        239.74  Tesla, Inc."
      ]
     },
     "execution_count": 5,
     "metadata": {},
     "output_type": "execute_result"
    }
   ],
   "source": [
    "\n",
    "yahoo_finance = []\n",
    "\n",
    "yahoo_finance.append({\"Symbol\": yahoo_response[\"symbol\"],\n",
    "                        \"Day_Range_raw\": yahoo_response[\"regularMarketDayRange\"][\"raw\"],\n",
    "                        \"Market_Price\": yahoo_response[\"regularMarketPrice\"][\"raw\"],\n",
    "                        \"Company_Name\": yahoo_response[\"longName\"]})\n",
    "\n",
    "yahoo_finance_df = pd.DataFrame(yahoo_finance)\n",
    "yahoo_finance_df.head()\n"
   ]
  }
 ],
 "metadata": {
  "kernelspec": {
   "display_name": "Python 3",
   "language": "python",
   "name": "python3"
  },
  "language_info": {
   "codemirror_mode": {
    "name": "ipython",
    "version": 3
   },
   "file_extension": ".py",
   "mimetype": "text/x-python",
   "name": "python",
   "nbconvert_exporter": "python",
   "pygments_lexer": "ipython3",
   "version": "3.10.13"
  }
 },
 "nbformat": 4,
 "nbformat_minor": 2
}
